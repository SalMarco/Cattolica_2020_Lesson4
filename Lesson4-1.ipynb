{
 "cells": [
  {
   "cell_type": "markdown",
   "metadata": {
    "hideCode": false,
    "hidePrompt": false,
    "slideshow": {
     "slide_type": "slide"
    }
   },
   "source": [
    "Introduction to Python\n",
    "================================\n",
    "\n",
    "Lesson 3 - Part1\n",
    "--------"
   ]
  },
  {
   "cell_type": "markdown",
   "metadata": {
    "hideCode": true,
    "hidePrompt": false,
    "slideshow": {
     "slide_type": "slide"
    }
   },
   "source": [
    "## Summary \n",
    "\n",
    "In this lesson we will focus on Neural Network. The lesson is divided between an introduction an a technical part\n",
    "The topis that we'll cover are in the introduction are:\n",
    "\n",
    "  - Tensorflow\n",
    "  - Keras \n",
    "  \n",
    "For the technical part we will create some models for:\n",
    "\n",
    "  - Single class classification\n",
    "  - Multi class classification\n",
    "  - Custom model\n"
   ]
  },
  {
   "cell_type": "markdown",
   "metadata": {
    "slideshow": {
     "slide_type": "slide"
    }
   },
   "source": [
    "## Introduction\n",
    "\n",
    "Today there are many framework that allow to create a Neural Network, like:\n",
    "\n",
    "  - Tensorflow \n",
    "  - Theano\n",
    "  - Caffe\n",
    "  - MXNett\n",
    "  - CNTK\n",
    "  \n",
    "Among all of them, probabilly the most famous is Tensorflow.\n",
    "\n",
    "Considering the support, the community the resources available, Tensorflow is the engine chosen for this course.  "
   ]
  },
  {
   "cell_type": "markdown",
   "metadata": {
    "slideshow": {
     "slide_type": "slide"
    }
   },
   "source": [
    "## Tensorflow\n",
    "\n",
    "[Tensorflow](https://www.tensorflow.org/) it was originally developed by Google, now it's open source.\n",
    "\n",
    "The definition from the web site is the following:\n",
    "\n",
    "*TensorFlow™ is an open source software library for high performance numerical computation. Its flexible architecture allows easy deployment of computation across a variety of platforms (CPUs, GPUs, TPUs), and from desktops to clusters of servers to mobile and edge devices. Originally developed by researchers and engineers from the Google Brain team within Google’s AI organization, it comes with strong support for machine learning and deep learning and the flexible numerical computation core is used across many other scientific domains.*\n",
    "\n",
    "Google has deeply invested in this project, to the point that now in Google Cloud there are available some instances with GPU's (called TPU's) designed especially for TensorFlow. "
   ]
  },
  {
   "cell_type": "markdown",
   "metadata": {
    "slideshow": {
     "slide_type": "slide"
    }
   },
   "source": [
    "## Keras\n",
    "\n",
    "In order to simply the definition of the Neural Network and to speed up the development time we'll not use TensorFlow directly.\n",
    "Instead we'll use [Keras](https://keras.io/).\n",
    "\n",
    "The definition from the website is the following:\n",
    "\n",
    "*Keras is a high-level neural networks API, written in Python and capable of running on top of TensorFlow, CNTK, or Theano. It was developed with a focus on enabling fast experimentation. Being able to go from idea to result with the least possible delay is key to doing good research.\n",
    "*\n",
    "\n",
    "As you can see from the description, Keras offers another advantage: with just a change of setting the same code can be used with:\n",
    "\n",
    "  - Tensorflow\n",
    "  - Theano\n",
    "  - CNTK"
   ]
  },
  {
   "cell_type": "markdown",
   "metadata": {},
   "source": [
    "## Tensorflow 2.0\n",
    "\n",
    "Tensorflow 2.0 has been released on September 30th 2019.\n",
    "\n",
    "The main new feature in this new relese in that Keras' API are now the official High Level APIs of Tensorflow, directly supported by the project itself.\n",
    "\n",
    "Quoting the home page of Keras:\n",
    "\n",
    "*At this time, we recommend that Keras users who use multi-backend Keras with the TensorFlow backend switch to tf.keras in TensorFlow 2.0. tf.keras is better maintained and has better integration with TensorFlow features (eager execution, distribution support and other).*\n"
   ]
  },
  {
   "cell_type": "markdown",
   "metadata": {
    "slideshow": {
     "slide_type": "slide"
    }
   },
   "source": [
    "## Comparison between Keras and Tensorflow\n",
    "\n",
    "In order to undestand the advantage of using Keras, we will consider the code necessary to define the same network using TensorFlow directly or Keras.\n",
    "\n",
    "Before moving on we must remember what are the parameters involved with a neural network.\n",
    "\n",
    "Can you list me those parameters?\n",
    "\n",
    "  - num imp.\n",
    "  - num. layers\n",
    "  - num. out \n",
    "  - node in layers \n",
    "  - activation \n",
    "  - loss\n",
    "  - optimization\n",
    "  - epoch \n",
    "  - batch size"
   ]
  },
  {
   "cell_type": "markdown",
   "metadata": {
    "slideshow": {
     "slide_type": "slide"
    }
   },
   "source": [
    "## TensoFlow Multiclass\n",
    "\n",
    "Let's create a neural network to be used over the classic [mnsit](http://yann.lecun.com/exdb/mnist/) hand written digits with two hidden layer to classify samples in to the 10 possible classes. \n",
    "\n"
   ]
  },
  {
   "cell_type": "code",
   "execution_count": 6,
   "metadata": {
    "slideshow": {
     "slide_type": "skip"
    }
   },
   "outputs": [
    {
     "name": "stdout",
     "output_type": "stream",
     "text": [
      "Extracting /tmp/data/train-images-idx3-ubyte.gz\n",
      "Extracting /tmp/data/train-labels-idx1-ubyte.gz\n",
      "Extracting /tmp/data/t10k-images-idx3-ubyte.gz\n",
      "Extracting /tmp/data/t10k-labels-idx1-ubyte.gz\n"
     ]
    }
   ],
   "source": [
    "from tensorflow.examples.tutorials.mnist import input_data\n",
    "mnist = input_data.read_data_sets(\"/tmp/data/\", one_hot=True)"
   ]
  },
  {
   "cell_type": "code",
   "execution_count": 5,
   "metadata": {
    "slideshow": {
     "slide_type": "skip"
    }
   },
   "outputs": [
    {
     "data": {
      "text/plain": [
       "<tensorflow.contrib.learn.python.learn.datasets.mnist.DataSet at 0x134d7add8>"
      ]
     },
     "execution_count": 5,
     "metadata": {},
     "output_type": "execute_result"
    }
   ],
   "source": [
    "mnist.test"
   ]
  },
  {
   "cell_type": "code",
   "execution_count": 7,
   "metadata": {
    "slideshow": {
     "slide_type": "subslide"
    }
   },
   "outputs": [
    {
     "name": "stderr",
     "output_type": "stream",
     "text": [
      "W1030 17:11:46.189947 4574193088 deprecation.py:323] From <ipython-input-7-7f6d4416490f>:54: softmax_cross_entropy_with_logits (from tensorflow.python.ops.nn_ops) is deprecated and will be removed in a future version.\n",
      "Instructions for updating:\n",
      "\n",
      "Future major versions of TensorFlow will allow gradients to flow\n",
      "into the labels input on backprop by default.\n",
      "\n",
      "See `tf.nn.softmax_cross_entropy_with_logits_v2`.\n",
      "\n"
     ]
    },
    {
     "name": "stdout",
     "output_type": "stream",
     "text": [
      "Step 1, Minibatch Loss= 7764.5581, Training Accuracy= 0.383\n",
      "Step 2, Minibatch Loss= 10254.6035, Training Accuracy= 0.469\n",
      "Step 3, Minibatch Loss= 11284.6406, Training Accuracy= 0.508\n",
      "Step 4, Minibatch Loss= 13357.6621, Training Accuracy= 0.422\n",
      "Step 5, Minibatch Loss= 7776.8623, Training Accuracy= 0.578\n",
      "Step 6, Minibatch Loss= 5782.4629, Training Accuracy= 0.594\n",
      "Step 7, Minibatch Loss= 2082.1309, Training Accuracy= 0.719\n",
      "Step 8, Minibatch Loss= 2376.5703, Training Accuracy= 0.695\n",
      "Step 9, Minibatch Loss= 3301.7427, Training Accuracy= 0.703\n",
      "Step 10, Minibatch Loss= 1859.7058, Training Accuracy= 0.711\n",
      "Step 11, Minibatch Loss= 1238.5892, Training Accuracy= 0.758\n",
      "Step 12, Minibatch Loss= 1334.7411, Training Accuracy= 0.828\n",
      "Step 13, Minibatch Loss= 2748.2046, Training Accuracy= 0.688\n",
      "Step 14, Minibatch Loss= 2132.0815, Training Accuracy= 0.734\n",
      "Step 15, Minibatch Loss= 1643.2915, Training Accuracy= 0.820\n",
      "Optimization Finished!\n",
      "Testing Accuracy: 0.7726\n"
     ]
    }
   ],
   "source": [
    "from __future__ import print_function\n",
    "\n",
    "# Import MNIST data\n",
    "from tensorflow.examples.tutorials.mnist import input_data\n",
    "#mnist = input_data.read_data_sets(\"/tmp/data/\", one_hot=True)\n",
    "\n",
    "import tensorflow as tf\n",
    "\n",
    "# Parameters\n",
    "learning_rate = 0.1\n",
    "num_steps = 15\n",
    "batch_size = 128\n",
    "display_step = 1\n",
    "\n",
    "# Network Parameters\n",
    "n_hidden_1 = 256 # 1st layer number of neurons\n",
    "n_hidden_2 = 256 # 2nd layer number of neurons\n",
    "num_input = 784 # MNIST data input (img shape: 28*28)\n",
    "num_classes = 10 # MNIST total classes (0-9 digits)\n",
    "\n",
    "# tf Graph input\n",
    "X = tf.placeholder(\"float\", [None, num_input])\n",
    "Y = tf.placeholder(\"float\", [None, num_classes])\n",
    "\n",
    "# Store layers weight & bias\n",
    "weights = {\n",
    "    'h1': tf.Variable(tf.random_normal([num_input, n_hidden_1])),\n",
    "    'h2': tf.Variable(tf.random_normal([n_hidden_1, n_hidden_2])),\n",
    "    'out': tf.Variable(tf.random_normal([n_hidden_2, num_classes]))\n",
    "}\n",
    "biases = {\n",
    "    'b1': tf.Variable(tf.random_normal([n_hidden_1])),\n",
    "    'b2': tf.Variable(tf.random_normal([n_hidden_2])),\n",
    "    'out': tf.Variable(tf.random_normal([num_classes]))\n",
    "}\n",
    "\n",
    "\n",
    "# Create model\n",
    "def neural_net(x):\n",
    "    # Hidden fully connected layer with 256 neurons\n",
    "    layer_1 = tf.add(tf.matmul(x, weights['h1']), biases['b1'])\n",
    "    # Hidden fully connected layer with 256 neurons\n",
    "    layer_2 = tf.add(tf.matmul(layer_1, weights['h2']), biases['b2'])\n",
    "    # Output fully connected layer with a neuron for each class\n",
    "    out_layer = tf.matmul(layer_2, weights['out']) + biases['out']\n",
    "    return out_layer\n",
    "\n",
    "# Construct model\n",
    "logits = neural_net(X)\n",
    "prediction = tf.nn.softmax(logits)\n",
    "\n",
    "# Define loss and optimizer\n",
    "loss_op = tf.reduce_mean(tf.nn.softmax_cross_entropy_with_logits(\n",
    "    logits=logits, labels=Y))\n",
    "optimizer = tf.train.AdamOptimizer(learning_rate=learning_rate)\n",
    "train_op = optimizer.minimize(loss_op)\n",
    "\n",
    "# Evaluate model\n",
    "correct_pred = tf.equal(tf.argmax(prediction, 1), tf.argmax(Y, 1))\n",
    "accuracy = tf.reduce_mean(tf.cast(correct_pred, tf.float32))\n",
    "\n",
    "# Initialize the variables (i.e. assign their default value)\n",
    "init = tf.global_variables_initializer()\n",
    "\n",
    "# Start training\n",
    "with tf.Session() as sess:\n",
    "\n",
    "    # Run the initializer\n",
    "    sess.run(init)\n",
    "\n",
    "    for step in range(1, num_steps+1):\n",
    "        batch_x, batch_y = mnist.train.next_batch(batch_size)\n",
    "        # Run optimization op (backprop)\n",
    "        sess.run(train_op, feed_dict={X: batch_x, Y: batch_y})\n",
    "        if step % display_step == 0 or step == 1:\n",
    "            # Calculate batch loss and accuracy\n",
    "            loss, acc = sess.run([loss_op, accuracy], feed_dict={X: batch_x,\n",
    "                                                                 Y: batch_y})\n",
    "            print(\"Step \" + str(step) + \", Minibatch Loss= \" + \\\n",
    "                  \"{:.4f}\".format(loss) + \", Training Accuracy= \" + \\\n",
    "                  \"{:.3f}\".format(acc))\n",
    "\n",
    "    print(\"Optimization Finished!\")\n",
    "\n",
    "    # Calculate accuracy for MNIST test images\n",
    "    print(\"Testing Accuracy:\", \\\n",
    "        sess.run(accuracy, feed_dict={X: mnist.test.images,\n",
    "                                      Y: mnist.test.labels}))"
   ]
  },
  {
   "cell_type": "markdown",
   "metadata": {
    "slideshow": {
     "slide_type": "slide"
    }
   },
   "source": [
    "## Keras Multiclass\n",
    "\n",
    "Let's create a neural network to be used over the classic [mnsit](http://yann.lecun.com/exdb/mnist/) hand written digits with two hidden layer to classify samples in to the 10 possible classes."
   ]
  },
  {
   "cell_type": "code",
   "execution_count": 35,
   "metadata": {},
   "outputs": [
    {
     "name": "stdout",
     "output_type": "stream",
     "text": [
      "(60000, 28, 28)\n"
     ]
    },
    {
     "data": {
      "text/plain": [
       "array([[0.        , 0.        , 0.        , 0.        , 0.        ,\n",
       "        0.        , 0.        , 0.        , 0.        , 0.        ,\n",
       "        0.        , 0.        , 0.        , 0.        , 0.        ,\n",
       "        0.        , 0.        , 0.        , 0.        , 0.        ,\n",
       "        0.        , 0.        , 0.        , 0.        , 0.        ,\n",
       "        0.        , 0.        , 0.        ],\n",
       "       [0.        , 0.        , 0.        , 0.        , 0.        ,\n",
       "        0.        , 0.        , 0.        , 0.        , 0.        ,\n",
       "        0.        , 0.        , 0.        , 0.        , 0.        ,\n",
       "        0.        , 0.        , 0.        , 0.        , 0.        ,\n",
       "        0.        , 0.        , 0.        , 0.        , 0.        ,\n",
       "        0.        , 0.        , 0.        ],\n",
       "       [0.        , 0.        , 0.        , 0.        , 0.        ,\n",
       "        0.        , 0.        , 0.        , 0.        , 0.        ,\n",
       "        0.        , 0.        , 0.        , 0.        , 0.        ,\n",
       "        0.        , 0.        , 0.        , 0.        , 0.        ,\n",
       "        0.        , 0.        , 0.        , 0.        , 0.        ,\n",
       "        0.        , 0.        , 0.        ],\n",
       "       [0.        , 0.        , 0.        , 0.        , 0.        ,\n",
       "        0.        , 0.        , 0.        , 0.        , 0.        ,\n",
       "        0.        , 0.        , 0.        , 0.        , 0.        ,\n",
       "        0.        , 0.        , 0.        , 0.        , 0.        ,\n",
       "        0.        , 0.        , 0.        , 0.        , 0.        ,\n",
       "        0.        , 0.        , 0.        ],\n",
       "       [0.        , 0.        , 0.        , 0.        , 0.        ,\n",
       "        0.        , 0.        , 0.        , 0.        , 0.        ,\n",
       "        0.        , 0.        , 0.        , 0.        , 0.        ,\n",
       "        0.2       , 0.62352941, 0.99215686, 0.62352941, 0.19607843,\n",
       "        0.        , 0.        , 0.        , 0.        , 0.        ,\n",
       "        0.        , 0.        , 0.        ],\n",
       "       [0.        , 0.        , 0.        , 0.        , 0.        ,\n",
       "        0.        , 0.        , 0.        , 0.        , 0.        ,\n",
       "        0.        , 0.        , 0.        , 0.        , 0.18823529,\n",
       "        0.93333333, 0.98823529, 0.98823529, 0.98823529, 0.92941176,\n",
       "        0.        , 0.        , 0.        , 0.        , 0.        ,\n",
       "        0.        , 0.        , 0.        ],\n",
       "       [0.        , 0.        , 0.        , 0.        , 0.        ,\n",
       "        0.        , 0.        , 0.        , 0.        , 0.        ,\n",
       "        0.        , 0.        , 0.        , 0.21176471, 0.89019608,\n",
       "        0.99215686, 0.98823529, 0.9372549 , 0.91372549, 0.98823529,\n",
       "        0.22352941, 0.02352941, 0.        , 0.        , 0.        ,\n",
       "        0.        , 0.        , 0.        ],\n",
       "       [0.        , 0.        , 0.        , 0.        , 0.        ,\n",
       "        0.        , 0.        , 0.        , 0.        , 0.        ,\n",
       "        0.        , 0.03921569, 0.23529412, 0.87843137, 0.98823529,\n",
       "        0.99215686, 0.98823529, 0.79215686, 0.32941176, 0.98823529,\n",
       "        0.99215686, 0.47843137, 0.        , 0.        , 0.        ,\n",
       "        0.        , 0.        , 0.        ],\n",
       "       [0.        , 0.        , 0.        , 0.        , 0.        ,\n",
       "        0.        , 0.        , 0.        , 0.        , 0.        ,\n",
       "        0.        , 0.63921569, 0.98823529, 0.98823529, 0.98823529,\n",
       "        0.99215686, 0.98823529, 0.98823529, 0.37647059, 0.74117647,\n",
       "        0.99215686, 0.65490196, 0.        , 0.        , 0.        ,\n",
       "        0.        , 0.        , 0.        ],\n",
       "       [0.        , 0.        , 0.        , 0.        , 0.        ,\n",
       "        0.        , 0.        , 0.        , 0.        , 0.        ,\n",
       "        0.2       , 0.93333333, 0.99215686, 0.99215686, 0.74509804,\n",
       "        0.44705882, 0.99215686, 0.89411765, 0.18431373, 0.30980392,\n",
       "        1.        , 0.65882353, 0.        , 0.        , 0.        ,\n",
       "        0.        , 0.        , 0.        ],\n",
       "       [0.        , 0.        , 0.        , 0.        , 0.        ,\n",
       "        0.        , 0.        , 0.        , 0.        , 0.18823529,\n",
       "        0.93333333, 0.98823529, 0.98823529, 0.70196078, 0.04705882,\n",
       "        0.29411765, 0.4745098 , 0.08235294, 0.        , 0.        ,\n",
       "        0.99215686, 0.95294118, 0.19607843, 0.        , 0.        ,\n",
       "        0.        , 0.        , 0.        ],\n",
       "       [0.        , 0.        , 0.        , 0.        , 0.        ,\n",
       "        0.        , 0.        , 0.        , 0.14901961, 0.64705882,\n",
       "        0.99215686, 0.91372549, 0.81568627, 0.32941176, 0.        ,\n",
       "        0.        , 0.        , 0.        , 0.        , 0.        ,\n",
       "        0.99215686, 0.98823529, 0.64705882, 0.        , 0.        ,\n",
       "        0.        , 0.        , 0.        ],\n",
       "       [0.        , 0.        , 0.        , 0.        , 0.        ,\n",
       "        0.        , 0.        , 0.02745098, 0.69803922, 0.98823529,\n",
       "        0.94117647, 0.27843137, 0.0745098 , 0.10980392, 0.        ,\n",
       "        0.        , 0.        , 0.        , 0.        , 0.        ,\n",
       "        0.99215686, 0.98823529, 0.76470588, 0.        , 0.        ,\n",
       "        0.        , 0.        , 0.        ],\n",
       "       [0.        , 0.        , 0.        , 0.        , 0.        ,\n",
       "        0.        , 0.        , 0.22352941, 0.98823529, 0.98823529,\n",
       "        0.24705882, 0.        , 0.        , 0.        , 0.        ,\n",
       "        0.        , 0.        , 0.        , 0.        , 0.        ,\n",
       "        0.99215686, 0.98823529, 0.76470588, 0.        , 0.        ,\n",
       "        0.        , 0.        , 0.        ],\n",
       "       [0.        , 0.        , 0.        , 0.        , 0.        ,\n",
       "        0.        , 0.        , 0.77647059, 0.99215686, 0.74509804,\n",
       "        0.        , 0.        , 0.        , 0.        , 0.        ,\n",
       "        0.        , 0.        , 0.        , 0.        , 0.        ,\n",
       "        1.        , 0.99215686, 0.76862745, 0.        , 0.        ,\n",
       "        0.        , 0.        , 0.        ],\n",
       "       [0.        , 0.        , 0.        , 0.        , 0.        ,\n",
       "        0.        , 0.29803922, 0.96470588, 0.98823529, 0.43921569,\n",
       "        0.        , 0.        , 0.        , 0.        , 0.        ,\n",
       "        0.        , 0.        , 0.        , 0.        , 0.        ,\n",
       "        0.99215686, 0.98823529, 0.58039216, 0.        , 0.        ,\n",
       "        0.        , 0.        , 0.        ],\n",
       "       [0.        , 0.        , 0.        , 0.        , 0.        ,\n",
       "        0.        , 0.33333333, 0.98823529, 0.90196078, 0.09803922,\n",
       "        0.        , 0.        , 0.        , 0.        , 0.        ,\n",
       "        0.        , 0.        , 0.        , 0.02745098, 0.52941176,\n",
       "        0.99215686, 0.72941176, 0.04705882, 0.        , 0.        ,\n",
       "        0.        , 0.        , 0.        ],\n",
       "       [0.        , 0.        , 0.        , 0.        , 0.        ,\n",
       "        0.        , 0.33333333, 0.98823529, 0.8745098 , 0.        ,\n",
       "        0.        , 0.        , 0.        , 0.        , 0.        ,\n",
       "        0.        , 0.        , 0.02745098, 0.51372549, 0.98823529,\n",
       "        0.88235294, 0.27843137, 0.        , 0.        , 0.        ,\n",
       "        0.        , 0.        , 0.        ],\n",
       "       [0.        , 0.        , 0.        , 0.        , 0.        ,\n",
       "        0.        , 0.33333333, 0.98823529, 0.56862745, 0.        ,\n",
       "        0.        , 0.        , 0.        , 0.        , 0.        ,\n",
       "        0.        , 0.18823529, 0.64705882, 0.98823529, 0.67843137,\n",
       "        0.        , 0.        , 0.        , 0.        , 0.        ,\n",
       "        0.        , 0.        , 0.        ],\n",
       "       [0.        , 0.        , 0.        , 0.        , 0.        ,\n",
       "        0.        , 0.3372549 , 0.99215686, 0.88235294, 0.        ,\n",
       "        0.        , 0.        , 0.        , 0.        , 0.        ,\n",
       "        0.44705882, 0.93333333, 0.99215686, 0.63529412, 0.        ,\n",
       "        0.        , 0.        , 0.        , 0.        , 0.        ,\n",
       "        0.        , 0.        , 0.        ],\n",
       "       [0.        , 0.        , 0.        , 0.        , 0.        ,\n",
       "        0.        , 0.33333333, 0.98823529, 0.97647059, 0.57254902,\n",
       "        0.18823529, 0.11372549, 0.33333333, 0.69803922, 0.88235294,\n",
       "        0.99215686, 0.8745098 , 0.65490196, 0.21960784, 0.        ,\n",
       "        0.        , 0.        , 0.        , 0.        , 0.        ,\n",
       "        0.        , 0.        , 0.        ],\n",
       "       [0.        , 0.        , 0.        , 0.        , 0.        ,\n",
       "        0.        , 0.33333333, 0.98823529, 0.98823529, 0.98823529,\n",
       "        0.89803922, 0.84313725, 0.98823529, 0.98823529, 0.98823529,\n",
       "        0.76862745, 0.50980392, 0.        , 0.        , 0.        ,\n",
       "        0.        , 0.        , 0.        , 0.        , 0.        ,\n",
       "        0.        , 0.        , 0.        ],\n",
       "       [0.        , 0.        , 0.        , 0.        , 0.        ,\n",
       "        0.        , 0.10980392, 0.78039216, 0.98823529, 0.98823529,\n",
       "        0.99215686, 0.98823529, 0.98823529, 0.91372549, 0.56862745,\n",
       "        0.        , 0.        , 0.        , 0.        , 0.        ,\n",
       "        0.        , 0.        , 0.        , 0.        , 0.        ,\n",
       "        0.        , 0.        , 0.        ],\n",
       "       [0.        , 0.        , 0.        , 0.        , 0.        ,\n",
       "        0.        , 0.        , 0.09803922, 0.50196078, 0.98823529,\n",
       "        0.99215686, 0.98823529, 0.55294118, 0.14509804, 0.        ,\n",
       "        0.        , 0.        , 0.        , 0.        , 0.        ,\n",
       "        0.        , 0.        , 0.        , 0.        , 0.        ,\n",
       "        0.        , 0.        , 0.        ],\n",
       "       [0.        , 0.        , 0.        , 0.        , 0.        ,\n",
       "        0.        , 0.        , 0.        , 0.        , 0.        ,\n",
       "        0.        , 0.        , 0.        , 0.        , 0.        ,\n",
       "        0.        , 0.        , 0.        , 0.        , 0.        ,\n",
       "        0.        , 0.        , 0.        , 0.        , 0.        ,\n",
       "        0.        , 0.        , 0.        ],\n",
       "       [0.        , 0.        , 0.        , 0.        , 0.        ,\n",
       "        0.        , 0.        , 0.        , 0.        , 0.        ,\n",
       "        0.        , 0.        , 0.        , 0.        , 0.        ,\n",
       "        0.        , 0.        , 0.        , 0.        , 0.        ,\n",
       "        0.        , 0.        , 0.        , 0.        , 0.        ,\n",
       "        0.        , 0.        , 0.        ],\n",
       "       [0.        , 0.        , 0.        , 0.        , 0.        ,\n",
       "        0.        , 0.        , 0.        , 0.        , 0.        ,\n",
       "        0.        , 0.        , 0.        , 0.        , 0.        ,\n",
       "        0.        , 0.        , 0.        , 0.        , 0.        ,\n",
       "        0.        , 0.        , 0.        , 0.        , 0.        ,\n",
       "        0.        , 0.        , 0.        ],\n",
       "       [0.        , 0.        , 0.        , 0.        , 0.        ,\n",
       "        0.        , 0.        , 0.        , 0.        , 0.        ,\n",
       "        0.        , 0.        , 0.        , 0.        , 0.        ,\n",
       "        0.        , 0.        , 0.        , 0.        , 0.        ,\n",
       "        0.        , 0.        , 0.        , 0.        , 0.        ,\n",
       "        0.        , 0.        , 0.        ]])"
      ]
     },
     "execution_count": 35,
     "metadata": {},
     "output_type": "execute_result"
    }
   ],
   "source": [
    "import tensorflow as tf\n",
    "mnist = tf.keras.datasets.mnist\n",
    "(X, Y), (X_test, Y_test) = mnist.load_data()\n",
    "X, X_test = X / 255.0, X_test / 255.0\n",
    "print(X.shape)\n",
    "X[1,:,:]"
   ]
  },
  {
   "cell_type": "code",
   "execution_count": 51,
   "metadata": {
    "slideshow": {
     "slide_type": "subslide"
    }
   },
   "outputs": [
    {
     "name": "stdout",
     "output_type": "stream",
     "text": [
      "Train on 60000 samples, validate on 10000 samples\n",
      "Epoch 1/10\n",
      "60000/60000 [==============================] - 5s 90us/sample - loss: 0.3054 - accuracy: 0.9164 - val_loss: 0.1577 - val_accuracy: 0.9533\n",
      "Epoch 2/10\n",
      "60000/60000 [==============================] - 5s 82us/sample - loss: 0.1325 - accuracy: 0.9622 - val_loss: 0.1139 - val_accuracy: 0.9665\n",
      "Epoch 3/10\n",
      "60000/60000 [==============================] - 6s 96us/sample - loss: 0.0915 - accuracy: 0.9738 - val_loss: 0.0931 - val_accuracy: 0.9715\n",
      "Epoch 4/10\n",
      "60000/60000 [==============================] - 5s 85us/sample - loss: 0.0673 - accuracy: 0.9805 - val_loss: 0.0818 - val_accuracy: 0.9743\n",
      "Epoch 5/10\n",
      "60000/60000 [==============================] - 5s 79us/sample - loss: 0.0519 - accuracy: 0.9852 - val_loss: 0.0751 - val_accuracy: 0.9784\n",
      "Epoch 6/10\n",
      "60000/60000 [==============================] - 5s 82us/sample - loss: 0.0407 - accuracy: 0.9883 - val_loss: 0.0727 - val_accuracy: 0.9773\n",
      "Epoch 7/10\n",
      "60000/60000 [==============================] - 4s 70us/sample - loss: 0.0323 - accuracy: 0.9913 - val_loss: 0.0666 - val_accuracy: 0.9799\n",
      "Epoch 8/10\n",
      "60000/60000 [==============================] - 4s 70us/sample - loss: 0.0251 - accuracy: 0.9937 - val_loss: 0.0621 - val_accuracy: 0.9793\n",
      "Epoch 9/10\n",
      "60000/60000 [==============================] - 5s 88us/sample - loss: 0.0207 - accuracy: 0.9943 - val_loss: 0.0650 - val_accuracy: 0.9807\n",
      "Epoch 10/10\n",
      "60000/60000 [==============================] - 5s 83us/sample - loss: 0.0173 - accuracy: 0.9955 - val_loss: 0.0702 - val_accuracy: 0.9795\n",
      "\n",
      "accuracy: 97.95%\n"
     ]
    }
   ],
   "source": [
    "import pandas as pd\n",
    "import numpy as np\n",
    "from tensorflow import keras as keras \n",
    "from tensorflow.keras.models import Sequential\n",
    "from tensorflow.keras.layers import Dense\n",
    "from tensorflow.keras.layers import Flatten\n",
    "#from tensorflow.keras import advanced_activations\n",
    "from keras.optimizers import Adam\n",
    "\n",
    "# Parameters\n",
    "learning_rate = 0.001\n",
    "num_steps = 10\n",
    "batch_size = 128\n",
    "\n",
    "# Network Parameters\n",
    "n_hidden_1 = 256 # 1st layer number of neurons\n",
    "n_hidden_2 = 100 # 2nd layer number of neurons\n",
    "num_input = 784 # MNIST data input (img shape: 28*28)\n",
    "num_classes = 10 # MNIST total classes (0-9 digits)\n",
    "\n",
    "#\n",
    "activationFun = 'relu'\n",
    "#activationFun = 'softmax'\n",
    "\n",
    "tryOverfit = False\n",
    "\n",
    "#Definition of the model type\n",
    "model = Sequential()\n",
    "model.add(Flatten(input_shape=(28, 28)))\n",
    "model.add(Dense(n_hidden_1,activation=activationFun))\n",
    "if tryOverfit:\n",
    "    model.add(Dense(n_hidden_2,activation=activationFun))\n",
    "\n",
    "model.add(Dense(num_classes,activation='softmax'))\n",
    "\n",
    "#Creation of the model\n",
    "adam = Adam(lr=learning_rate)\n",
    "model.compile(loss='sparse_categorical_crossentropy', optimizer=adam,metrics=['accuracy'])\n",
    "#Fit of the network\n",
    "mnist = tf.keras.datasets.mnist\n",
    "(X, Y), (X_test, Y_test) = mnist.load_data()\n",
    "X, X_test = X / 255.0, X_test / 255.0\n",
    "history = model.fit(X, Y, epochs=num_steps, batch_size=batch_size,validation_data=(X_test,Y_test))#validation_split=0.05\n",
    "# evaluate the model\n",
    "scores = model.evaluate(X_test, Y_test)\n",
    "print(\"\\n%s: %.2f%%\" % (model.metrics_names[1], scores[1]*100))"
   ]
  },
  {
   "cell_type": "markdown",
   "metadata": {
    "slideshow": {
     "slide_type": "slide"
    }
   },
   "source": [
    "## Warning\n",
    "\n",
    "Keras is an API, so the implementation of function is not one to one with TensorFlow. Often similar parameters can bring to different results.\n",
    "\n",
    "**You have to optimize the network for Keras, not for Tensorflow**."
   ]
  },
  {
   "cell_type": "markdown",
   "metadata": {
    "slideshow": {
     "slide_type": "slide"
    }
   },
   "source": [
    "## Analysis' Results\n",
    "\n",
    "If we take a closer look to the results of the network what we can see?\n",
    "\n",
    "During the fit of the model, with `history = model.fit`, we have stored in `history` all the values of **loss** and **accuracy** for train and test.\n",
    "\n",
    "Note that must pass some validation data or a validation split using `validation_data` or `validation_split` parameters in `model.fit` \n",
    "\n",
    "We can define these and other metrics to be use using the parameter `metrics` in `model.compile`."
   ]
  },
  {
   "cell_type": "code",
   "execution_count": 52,
   "metadata": {
    "slideshow": {
     "slide_type": "subslide"
    }
   },
   "outputs": [
    {
     "data": {
      "text/html": [
       "<div>\n",
       "<style scoped>\n",
       "    .dataframe tbody tr th:only-of-type {\n",
       "        vertical-align: middle;\n",
       "    }\n",
       "\n",
       "    .dataframe tbody tr th {\n",
       "        vertical-align: top;\n",
       "    }\n",
       "\n",
       "    .dataframe thead th {\n",
       "        text-align: right;\n",
       "    }\n",
       "</style>\n",
       "<table border=\"1\" class=\"dataframe\">\n",
       "  <thead>\n",
       "    <tr style=\"text-align: right;\">\n",
       "      <th></th>\n",
       "      <th>loss</th>\n",
       "      <th>accuracy</th>\n",
       "      <th>val_loss</th>\n",
       "      <th>val_accuracy</th>\n",
       "    </tr>\n",
       "  </thead>\n",
       "  <tbody>\n",
       "    <tr>\n",
       "      <th>0</th>\n",
       "      <td>0.305377</td>\n",
       "      <td>0.916400</td>\n",
       "      <td>0.157675</td>\n",
       "      <td>0.9533</td>\n",
       "    </tr>\n",
       "    <tr>\n",
       "      <th>1</th>\n",
       "      <td>0.132468</td>\n",
       "      <td>0.962233</td>\n",
       "      <td>0.113939</td>\n",
       "      <td>0.9665</td>\n",
       "    </tr>\n",
       "    <tr>\n",
       "      <th>2</th>\n",
       "      <td>0.091464</td>\n",
       "      <td>0.973800</td>\n",
       "      <td>0.093114</td>\n",
       "      <td>0.9715</td>\n",
       "    </tr>\n",
       "    <tr>\n",
       "      <th>3</th>\n",
       "      <td>0.067276</td>\n",
       "      <td>0.980467</td>\n",
       "      <td>0.081848</td>\n",
       "      <td>0.9743</td>\n",
       "    </tr>\n",
       "    <tr>\n",
       "      <th>4</th>\n",
       "      <td>0.051940</td>\n",
       "      <td>0.985217</td>\n",
       "      <td>0.075096</td>\n",
       "      <td>0.9784</td>\n",
       "    </tr>\n",
       "    <tr>\n",
       "      <th>5</th>\n",
       "      <td>0.040684</td>\n",
       "      <td>0.988283</td>\n",
       "      <td>0.072674</td>\n",
       "      <td>0.9773</td>\n",
       "    </tr>\n",
       "    <tr>\n",
       "      <th>6</th>\n",
       "      <td>0.032253</td>\n",
       "      <td>0.991333</td>\n",
       "      <td>0.066588</td>\n",
       "      <td>0.9799</td>\n",
       "    </tr>\n",
       "    <tr>\n",
       "      <th>7</th>\n",
       "      <td>0.025060</td>\n",
       "      <td>0.993700</td>\n",
       "      <td>0.062050</td>\n",
       "      <td>0.9793</td>\n",
       "    </tr>\n",
       "    <tr>\n",
       "      <th>8</th>\n",
       "      <td>0.020672</td>\n",
       "      <td>0.994317</td>\n",
       "      <td>0.064987</td>\n",
       "      <td>0.9807</td>\n",
       "    </tr>\n",
       "    <tr>\n",
       "      <th>9</th>\n",
       "      <td>0.017328</td>\n",
       "      <td>0.995500</td>\n",
       "      <td>0.070230</td>\n",
       "      <td>0.9795</td>\n",
       "    </tr>\n",
       "  </tbody>\n",
       "</table>\n",
       "</div>"
      ],
      "text/plain": [
       "       loss  accuracy  val_loss  val_accuracy\n",
       "0  0.305377  0.916400  0.157675        0.9533\n",
       "1  0.132468  0.962233  0.113939        0.9665\n",
       "2  0.091464  0.973800  0.093114        0.9715\n",
       "3  0.067276  0.980467  0.081848        0.9743\n",
       "4  0.051940  0.985217  0.075096        0.9784\n",
       "5  0.040684  0.988283  0.072674        0.9773\n",
       "6  0.032253  0.991333  0.066588        0.9799\n",
       "7  0.025060  0.993700  0.062050        0.9793\n",
       "8  0.020672  0.994317  0.064987        0.9807\n",
       "9  0.017328  0.995500  0.070230        0.9795"
      ]
     },
     "execution_count": 52,
     "metadata": {},
     "output_type": "execute_result"
    }
   ],
   "source": [
    "pd.DataFrame(history.history)"
   ]
  },
  {
   "cell_type": "code",
   "execution_count": null,
   "metadata": {},
   "outputs": [],
   "source": []
  },
  {
   "cell_type": "code",
   "execution_count": 53,
   "metadata": {
    "slideshow": {
     "slide_type": "fragment"
    }
   },
   "outputs": [
    {
     "data": {
      "text/plain": [
       "Text(0, 0.5, 'Loss')"
      ]
     },
     "execution_count": 53,
     "metadata": {},
     "output_type": "execute_result"
    },
    {
     "data": {
      "image/png": "[encoded data removed]",
      "text/plain": [
       "<Figure size 432x288 with 1 Axes>"
      ]
     },
     "metadata": {
      "needs_background": "light"
     },
     "output_type": "display_data"
    }
   ],
   "source": [
    "from matplotlib import pyplot as plt\n",
    "history_dict=history.history\n",
    "loss_values = history_dict['loss']\n",
    "val_loss_values = history_dict['val_loss']\n",
    "epochs = range(1, len(loss_values) + 1)\n",
    "plt.plot(epochs, loss_values, 'ro')\n",
    "plt.plot(epochs, val_loss_values, 'b+')\n",
    "plt.xlabel('Epochs')\n",
    "plt.ylabel('Loss')"
   ]
  },
  {
   "cell_type": "code",
   "execution_count": 54,
   "metadata": {
    "slideshow": {
     "slide_type": "fragment"
    }
   },
   "outputs": [
    {
     "data": {
      "text/plain": [
       "Text(0, 0.5, 'Accuracy')"
      ]
     },
     "execution_count": 54,
     "metadata": {},
     "output_type": "execute_result"
    },
    {
     "data": {
      "image/png": "[encoded data removed]",
      "text/plain": [
       "<Figure size 432x288 with 1 Axes>"
      ]
     },
     "metadata": {
      "needs_background": "light"
     },
     "output_type": "display_data"
    }
   ],
   "source": [
    "loss_values = history_dict['accuracy']\n",
    "val_loss_values = history_dict['val_accuracy']\n",
    "epochs = range(1, len(loss_values) + 1)\n",
    "plt.plot(epochs, loss_values, 'ro')\n",
    "plt.plot(epochs, val_loss_values, 'b+')\n",
    "plt.xlabel('Epochs')\n",
    "plt.ylabel('Accuracy')"
   ]
  },
  {
   "cell_type": "markdown",
   "metadata": {
    "slideshow": {
     "slide_type": "slide"
    }
   },
   "source": [
    "## Keras Single Class\n",
    "\n",
    "Now we'll make an example of a binary classification task using Keras.\n",
    "\n",
    "The dataset is hosted on [Kaggle](https://www.kaggle.com/) and it's the [Promotion Response for a New Product](https://www.kaggle.com/regivm/promotion-response-and-target-datasets/version/1).\n",
    "\n",
    "The description of th dataset is the following:\n",
    "\n",
    "*The context of this business problem is new product introduction. A business organization developed a new product and promoted this to its existing customers. Initially it chose a sample of customers for promotion and the response information is available in the 'promoted' dataset. The organization is interested in building a model to select the best customers for contacting from the pool of customers not contacted ('target' dataset).*\n",
    "\n",
    "and the columns are:\n",
    "\n",
    "  - customer_id\n",
    "  - **res** (what we want to predict)\n",
    "  - card_tenure\n",
    "  - risk_score\n",
    "  - num_promoted\n",
    "  - avg_bal\n",
    "  - geo_group\n",
    "  - res_type"
   ]
  },
  {
   "cell_type": "markdown",
   "metadata": {
    "slideshow": {
     "slide_type": "slide"
    }
   },
   "source": [
    "## Python Class \n",
    "\n",
    "To learn something new, we'll make the code of this model using Python classes.\n",
    "\n",
    "A **Class** is a blueprint for an object, that can contain variables and functions (called method).\n",
    "\n",
    "The characteristics of a Python Class are:\n",
    "  \n",
    "  - `__init__` function\n",
    "  - Properties \n",
    "  - Methods \n",
    "  - `self` parameter\n",
    "  \n",
    "\n",
    "Please note similarity of our class with all what we have used so far.\n",
    "\n",
    "While we are looking to python classes we can also introduce two other usefull things:\n",
    "  - `kargs`\n",
    "  - logging"
   ]
  },
  {
   "cell_type": "code",
   "execution_count": 57,
   "metadata": {
    "slideshow": {
     "slide_type": "subslide"
    }
   },
   "outputs": [
    {
     "name": "stderr",
     "output_type": "stream",
     "text": [
      "2020-10-25 15:03:48,125 : INFO : INIZIALIZATION OF LOADDATA\n",
      "2020-10-25 15:03:48,127 : INFO : READING data/target.csv\n",
      "2020-10-25 15:03:48,293 : INFO : LOADED DATASET WITH SHAPE (110000, 8) AND COLUMUNS Index(['customer_id', 'card_tenure', 'risk_score', 'num_promoted', 'avg_bal',\n",
      "       'geo_group', 'res_type', 'Unnamed: 7'],\n",
      "      dtype='object')\n",
      "2020-10-25 15:03:48,343 : INFO : READING data/promoted.csv\n",
      "2020-10-25 15:03:48,384 : INFO : LOADED DATASET WITH SHAPE (25000, 8) AND COLUMUNS Index(['customer_id', 'resp', 'card_tenure', 'risk_score', 'num_promoted',\n",
      "       'avg_bal', 'geo_group', 'res_type'],\n",
      "      dtype='object')\n",
      "2020-10-25 15:03:48,412 : INFO : REMOVING ROWS WITH NA\n",
      "2020-10-25 15:03:48,413 : INFO : NROWS BEFORE REMOVING NA 25000\n",
      "2020-10-25 15:03:48,423 : INFO : NROWS AFTER REMOVING NA 22400\n",
      "2020-10-25 15:03:48,425 : INFO : CONSIDERING LEVELS FOR CATEGORICAL COLUMNS\n"
     ]
    },
    {
     "name": "stdout",
     "output_type": "stream",
     "text": [
      "After reading          card_tenure     risk_score   num_promoted  Unnamed: 7\n",
      "count  107792.000000  110000.000000  110000.000000         0.0\n",
      "mean      138.956564     655.571482       0.006782         NaN\n",
      "std        67.433081      81.252328       0.082183         NaN\n",
      "min        12.000000     520.000000       0.000000         NaN\n",
      "25%        91.000000     600.000000       0.000000         NaN\n",
      "50%       135.000000     678.000000       0.000000         NaN\n",
      "75%       179.000000     720.000000       0.000000         NaN\n",
      "max       641.000000     760.000000       2.000000         NaN\n",
      "After reading                resp   card_tenure    risk_score  num_promoted\n",
      "count  25000.000000  24515.000000  25000.000000  25000.000000\n",
      "mean       0.068640    139.491617    655.091680      0.007000\n",
      "std        0.252846     66.998010     81.315116      0.083374\n",
      "min        0.000000      0.000000    520.000000      0.000000\n",
      "25%        0.000000     95.000000    599.000000      0.000000\n",
      "50%        0.000000    135.000000    677.000000      0.000000\n",
      "75%        0.000000    179.000000    719.000000      0.000000\n",
      "max        1.000000    641.000000    760.000000      1.000000\n",
      "SHAPE OF DF: 22400 X 8\n",
      "SHAPE OF DF2ENC: 22400 X 3\n",
      "SHAPE OF DFENC: 22400 X 3276\n",
      "<class 'scipy.sparse.csr.csr_matrix'>\n"
     ]
    },
    {
     "name": "stderr",
     "output_type": "stream",
     "text": [
      "2020-10-25 15:03:48,686 : INFO : SCALING OF NUMERIC COLUMNS\n",
      "2020-10-25 15:03:48,710 : INFO : INIZIALIZATION OF CreateNN\n",
      "2020-10-25 15:03:48,711 : INFO : DEFINITION OF THE MODEL\n",
      "2020-10-25 15:03:48,784 : INFO : COMPILATION OF THE MODEL\n",
      "2020-10-25 15:03:48,829 : INFO : EVALUATION OF THE MODEL\n",
      "2020-10-25 15:03:48,830 : INFO : START OF THE CROSS VALIDATION\n",
      "2020-10-25 15:03:48,834 : INFO : WORKING ON FOLD 1\n"
     ]
    },
    {
     "name": "stdout",
     "output_type": "stream",
     "text": [
      "SHAPE OF DFENC: 22400 X 3276\n",
      "SHAPE OF X_train: 22400 X 3276\n",
      "SHAPE OF dfEnc AFTER ALL: 22400 X 3279\n",
      "AFTER PREPROCESSING dfEnc HAS COLUMUNS Index([             0,              1,              2,              3,\n",
      "                    4,              5,              6,              7,\n",
      "                    8,              9,\n",
      "       ...\n",
      "                 3269,           3270,           3271,           3272,\n",
      "                 3273,           3274,           3275,  'card_tenure',\n",
      "         'risk_score', 'num_promoted'],\n",
      "      dtype='object', length=3279) AND TYPES 0               float64\n",
      "1               float64\n",
      "2               float64\n",
      "3               float64\n",
      "4               float64\n",
      "                 ...   \n",
      "3274            float64\n",
      "3275            float64\n",
      "card_tenure     float64\n",
      "risk_score      float64\n",
      "num_promoted    float64\n",
      "Length: 3279, dtype: object\n",
      "Model: \"sequential_12\"\n",
      "_________________________________________________________________\n",
      "Layer (type)                 Output Shape              Param #   \n",
      "=================================================================\n",
      "dense_37 (Dense)             (None, 3279)              10755120  \n",
      "_________________________________________________________________\n",
      "dense_38 (Dense)             (None, 25)                82000     \n",
      "_________________________________________________________________\n",
      "dense_39 (Dense)             (None, 10)                260       \n",
      "_________________________________________________________________\n",
      "dense_40 (Dense)             (None, 1)                 11        \n",
      "=================================================================\n",
      "Total params: 10,837,391\n",
      "Trainable params: 10,837,391\n",
      "Non-trainable params: 0\n",
      "_________________________________________________________________\n",
      "None\n",
      "train set [ 4474  4481  4482 ... 22397 22398 22399]\n",
      "Train on 17920 samples\n",
      "Epoch 1/5\n",
      "17920/17920 [==============================] - 11s 610us/sample - loss: 0.3946 - accuracy: 0.8929\n",
      "Epoch 2/5\n",
      "17920/17920 [==============================] - 11s 611us/sample - loss: 0.2483 - accuracy: 0.9314\n",
      "Epoch 3/5\n",
      "17920/17920 [==============================] - 11s 609us/sample - loss: 0.2256 - accuracy: 0.9314\n",
      "Epoch 4/5\n",
      "17920/17920 [==============================] - 11s 606us/sample - loss: 0.2139 - accuracy: 0.9314\n",
      "Epoch 5/5\n",
      "17920/17920 [==============================] - 11s 602us/sample - loss: 0.2038 - accuracy: 0.9314\n"
     ]
    },
    {
     "name": "stderr",
     "output_type": "stream",
     "text": [
      "2020-10-25 15:04:55,134 : INFO : WORKING ON FOLD 2\n"
     ]
    },
    {
     "name": "stdout",
     "output_type": "stream",
     "text": [
      "train set [    0     1     2 ... 22397 22398 22399]\n",
      "Train on 17920 samples\n",
      "Epoch 1/5\n",
      "17920/17920 [==============================] - 11s 607us/sample - loss: 0.2108 - accuracy: 0.9314\n",
      "Epoch 2/5\n",
      "17920/17920 [==============================] - 11s 606us/sample - loss: 0.1989 - accuracy: 0.9314\n",
      "Epoch 3/5\n",
      "17920/17920 [==============================] - 11s 599us/sample - loss: 0.1871 - accuracy: 0.9314\n",
      "Epoch 4/5\n",
      "17920/17920 [==============================] - 11s 611us/sample - loss: 0.1759 - accuracy: 0.9314\n",
      "Epoch 5/5\n",
      "17920/17920 [==============================] - 11s 607us/sample - loss: 0.1648 - accuracy: 0.9314\n"
     ]
    },
    {
     "name": "stderr",
     "output_type": "stream",
     "text": [
      "2020-10-25 15:05:58,122 : INFO : WORKING ON FOLD 3\n"
     ]
    },
    {
     "name": "stdout",
     "output_type": "stream",
     "text": [
      "train set [    0     1     2 ... 22397 22398 22399]\n",
      "Train on 17920 samples\n",
      "Epoch 1/5\n",
      "17920/17920 [==============================] - 11s 598us/sample - loss: 0.1668 - accuracy: 0.9330\n",
      "Epoch 2/5\n",
      "17920/17920 [==============================] - 11s 587us/sample - loss: 0.1493 - accuracy: 0.9400\n",
      "Epoch 3/5\n",
      "17920/17920 [==============================] - 11s 603us/sample - loss: 0.1327 - accuracy: 0.9513\n",
      "Epoch 4/5\n",
      "17920/17920 [==============================] - 11s 618us/sample - loss: 0.1205 - accuracy: 0.9568\n",
      "Epoch 5/5\n",
      "17920/17920 [==============================] - 11s 611us/sample - loss: 0.1107 - accuracy: 0.9588\n"
     ]
    },
    {
     "name": "stderr",
     "output_type": "stream",
     "text": [
      "2020-10-25 15:07:00,647 : INFO : WORKING ON FOLD 4\n"
     ]
    },
    {
     "name": "stdout",
     "output_type": "stream",
     "text": [
      "train set [    0     1     2 ... 22397 22398 22399]\n",
      "Train on 17920 samples\n",
      "Epoch 1/5\n",
      "17920/17920 [==============================] - 11s 609us/sample - loss: 0.1291 - accuracy: 0.9534\n",
      "Epoch 2/5\n",
      "17920/17920 [==============================] - 11s 623us/sample - loss: 0.1144 - accuracy: 0.9578\n",
      "Epoch 3/5\n",
      "17920/17920 [==============================] - 11s 603us/sample - loss: 0.1080 - accuracy: 0.9585\n",
      "Epoch 4/5\n",
      "17920/17920 [==============================] - 11s 606us/sample - loss: 0.1025 - accuracy: 0.9586\n",
      "Epoch 5/5\n",
      "17920/17920 [==============================] - 11s 613us/sample - loss: 0.0990 - accuracy: 0.9595\n"
     ]
    },
    {
     "name": "stderr",
     "output_type": "stream",
     "text": [
      "2020-10-25 15:08:03,687 : INFO : WORKING ON FOLD 5\n"
     ]
    },
    {
     "name": "stdout",
     "output_type": "stream",
     "text": [
      "train set [    0     1     2 ... 18004 18008 18031]\n",
      "Train on 17920 samples\n",
      "Epoch 1/5\n",
      "17920/17920 [==============================] - 11s 618us/sample - loss: 0.1137 - accuracy: 0.9563\n",
      "Epoch 2/5\n",
      "17920/17920 [==============================] - 11s 608us/sample - loss: 0.1035 - accuracy: 0.9586\n",
      "Epoch 3/5\n",
      "17920/17920 [==============================] - 11s 597us/sample - loss: 0.0979 - accuracy: 0.9608\n",
      "Epoch 4/5\n",
      "17920/17920 [==============================] - 11s 604us/sample - loss: 0.0965 - accuracy: 0.9593\n",
      "Epoch 5/5\n",
      "17920/17920 [==============================] - 11s 598us/sample - loss: 0.0945 - accuracy: 0.9605\n"
     ]
    },
    {
     "name": "stderr",
     "output_type": "stream",
     "text": [
      "2020-10-25 15:09:07,590 : INFO : EVALUATION COMPLETED\n",
      "2020-10-25 15:09:07,597 : INFO : FOR THE ACTUAL MODEL THE RESULTS OF accuracy IS: 0.94%+/-0.01%\n"
     ]
    }
   ],
   "source": [
    "import os\n",
    "import pandas as pd\n",
    "import numpy as np\n",
    "import tensorflow.keras as keras\n",
    "from keras.models import Sequential\n",
    "from keras.layers import Dense\n",
    "from keras.layers import advanced_activations\n",
    "from keras.optimizers import Adam\n",
    "from sklearn import preprocessing\n",
    "import logging\n",
    "from sklearn.model_selection import StratifiedKFold\n",
    "from sklearn.preprocessing import OneHotEncoder\n",
    "\n",
    "logging.basicConfig(format='%(asctime)s : %(levelname)s : %(message)s', level=logging.INFO)\n",
    "logger = logging.getLogger('pippo')\n",
    "\n",
    "# Parameters\n",
    "learning_rate = 0.001\n",
    "num_steps = 5\n",
    "batch_size = 1000\n",
    "n_fold = 5\n",
    "\n",
    "# Network Parameters\n",
    "n_hidden_1 = 25 # 1st layer number of neurons\n",
    "n_hidden_2 = 10 # 2nd layer number of neurons\n",
    "#num_input = 6 # MNIST data input (img shape: 28*28)\n",
    "num_classes = 1 # MNIST total classes (0-9 digits)\n",
    "\n",
    "trainFile = 'promoted.csv'\n",
    "predFile = 'target.csv'\n",
    "\n",
    "#\n",
    "activationFun = 'relu'\n",
    "#activationFun = 'softmax'\n",
    "\n",
    "testOneHot = True\n",
    "\n",
    "class LoadData:\n",
    "    def __init__(self,**kargs):\n",
    "        self.path = 'data'\n",
    "        self.trainFile = kargs['tr']\n",
    "        self.colList = ['avg_bal','geo_group', 'res_type']\n",
    "        \n",
    "    def readFiles(self,fileName):\n",
    "        fullPath = os.path.join(self.path,fileName)\n",
    "        logger.info('READING %s',fullPath)\n",
    "        df = pd.read_csv(fullPath,sep=',',dtype={'avg_bal':'category', 'geo_group':'category', 'res_type':'category',})#dtype={'avg_bal':'category', 'geo_group':'category', 'res_type':'category',}\n",
    "        logger.info('LOADED DATASET WITH SHAPE %s AND COLUMUNS %s',str(df.shape),str(df.columns))\n",
    "        print('After reading',df.describe())\n",
    "        return df\n",
    "    \n",
    "    def useOneHot(self,df):\n",
    "        print('SHAPE OF DF: %i X %i'%(df.shape[0],df.shape[1]))\n",
    "        df2Enc = df.loc[:,self.colList]\n",
    "        print('SHAPE OF DF2ENC: %i X %i'%(df2Enc.shape[0],df2Enc.shape[1]))\n",
    "        enc = OneHotEncoder()\n",
    "        dfEnc = enc.fit_transform(df2Enc)\n",
    "        print('SHAPE OF DFENC: %i X %i'%(dfEnc.shape[0],dfEnc.shape[1]))\n",
    "        print(type(dfEnc))\n",
    "        dfEnc = pd.DataFrame(dfEnc.toarray())\n",
    "        print('SHAPE OF DFENC: %i X %i'%(dfEnc.shape[0],dfEnc.shape[1]))\n",
    "        #df.drop(columns=self.colList,inplace=True)\n",
    "        return dfEnc\n",
    "        \n",
    "        \n",
    "    def prepareTrain(self):\n",
    "        dfTrain = self.readFiles(self.trainFile)\n",
    "        logger.info('REMOVING ROWS WITH NA')\n",
    "        logger.info('NROWS BEFORE REMOVING NA %i',dfTrain.shape[0])\n",
    "        dfTrain.dropna(inplace=True)\n",
    "        logger.info('NROWS AFTER REMOVING NA %i',dfTrain.shape[0])\n",
    "        Y_train = dfTrain.loc[:,'resp']\n",
    "        logger.info('CONSIDERING LEVELS FOR CATEGORICAL COLUMNS')\n",
    "        if testOneHot:\n",
    "            dfEnc = self.useOneHot(dfTrain)\n",
    "            print('SHAPE OF X_train: %i X %i'%(dfEnc.shape[0],dfEnc.shape[1]))\n",
    "        else:\n",
    "            for curCol in self.colList:\n",
    "                X_train[curCol] = dfTrain[curCol].cat.codes\n",
    "        logger.info('SCALING OF NUMERIC COLUMNS')\n",
    "        mmscaler = preprocessing.MinMaxScaler()\n",
    "        for curCol in ['card_tenure', 'risk_score', 'num_promoted']:\n",
    "            curFeat = mmscaler.fit_transform(dfTrain[[curCol]])  \n",
    "            dfEnc[curCol] = curFeat.reshape(-1,1)\n",
    "        print('SHAPE OF dfEnc AFTER ALL: %i X %i'%(dfEnc.shape[0],dfEnc.shape[1]))\n",
    "        print('AFTER PREPROCESSING dfEnc HAS COLUMUNS %s AND TYPES %s'%(str(dfEnc.columns),str(dfEnc.dtypes)))\n",
    "        return dfEnc, Y_train\n",
    "\n",
    "class CreateNN:\n",
    "    def __init__(self,**kargs):\n",
    "        self.X_train = kargs['xt']\n",
    "        self.Y_train = kargs['yt']\n",
    "        self.kFold = kargs['kf']\n",
    "        self.i = 1\n",
    "        self.num_input = self.X_train.shape[1]\n",
    "        \n",
    "    def modelDefinition(self):\n",
    "        logger.info('DEFINITION OF THE MODEL')\n",
    "        self.model = Sequential()\n",
    "        self.model.add(Dense(self.num_input, input_dim = self.num_input,activation=activationFun))\n",
    "        self.model.add(Dense(n_hidden_1,activation = activationFun))\n",
    "        self.model.add(Dense(n_hidden_2,activation = activationFun))\n",
    "        self.model.add(Dense(num_classes,activation = 'sigmoid'))\n",
    "        print(self.model.summary())\n",
    "    \n",
    "    def modelCompile(self):\n",
    "        logger.info('COMPILATION OF THE MODEL')\n",
    "        adam = Adam(lr = learning_rate)\n",
    "        self.model.compile(loss = 'binary_crossentropy', optimizer = adam,metrics = ['accuracy'])\n",
    "        \n",
    "    def modelEval(self):\n",
    "        logger.info('EVALUATION OF THE MODEL')\n",
    "        totalScores = list()\n",
    "        logger.info('START OF THE CROSS VALIDATION')\n",
    "        for train,test in self.kFold.split(self.X_train, self.Y_train):\n",
    "            logger.info('WORKING ON FOLD %i',self.i)\n",
    "            print('train set',train)\n",
    "            history = self.model.fit(self.X_train.iloc[train], self.Y_train.iloc[train],\n",
    "                                     epochs=num_steps, \n",
    "                                     batch_size = batch_size) #validation_data=(self.X_train.iloc[test], self.Y_train.iloc[test])\n",
    "            scores = self.model.evaluate(self.X_train.iloc[test], self.Y_train.iloc[test])\n",
    "            totalScores.append(scores[1])\n",
    "            self.i += 1\n",
    "        return history, self.model, totalScores\n",
    "\n",
    "    \n",
    "    \n",
    "def main():\n",
    "    #Inizialization of the class LoadData \n",
    "    logger.info('INIZIALIZATION OF LOADDATA')\n",
    "    ld = LoadData(tr=trainFile)\n",
    "    df2Pred = ld.readFiles(predFile)\n",
    "    X_train, Y_train = ld.prepareTrain()\n",
    "    kfold = StratifiedKFold(n_splits=n_fold)\n",
    "    logger.info('INIZIALIZATION OF CreateNN')\n",
    "    cnn = CreateNN(xt=X_train,yt=Y_train,kf=kfold)\n",
    "    cnn.modelDefinition()\n",
    "    cnn.modelCompile()\n",
    "    history, model, totalScores = cnn.modelEval() \n",
    "    logger.info('EVALUATION COMPLETED')\n",
    "    logger.info(\"FOR THE ACTUAL MODEL THE RESULTS OF %s IS: %.2f%%+/-%.2f%%\" % (model.metrics_names[1], np.mean(totalScores),np.std(totalScores)))\n",
    "    return X_train,Y_train, history,totalScores\n",
    "    \n",
    "X_train,Y_train, history,totalScores = main()"
   ]
  },
  {
   "cell_type": "markdown",
   "metadata": {
    "slideshow": {
     "slide_type": "slide"
    }
   },
   "source": [
    "## Exercise Model\n",
    "\n",
    "Try to understand the best parameters for the above model using what we have learned in this lesson (hint: look if the model is overfitting).\n",
    "\n",
    "After the definition of a good model, try to make the prediction over the pred set."
   ]
  },
  {
   "cell_type": "markdown",
   "metadata": {},
   "source": [
    "## Exercise Class\n",
    "\n",
    "Try to re-write the first Keras Model using a *Class* approach.  "
   ]
  },
  {
   "cell_type": "markdown",
   "metadata": {
    "slideshow": {
     "slide_type": "slide"
    }
   },
   "source": [
    "## Custom model\n",
    "\n",
    "The models that we have built in the previous examples are made using the **Sequantial model**: `from keras.models import Sequential`.\n",
    "\n",
    "The sequential model is the standard to create a network with a sequence of layers,one after the other.\n",
    "\n",
    "Aside from that model, Keras give us the possibility to create networks with others layout ([more info about models](https://keras.io/models/about-keras-models/)).\n",
    "\n",
    "This is done with the **functional API** ([more about functional API](https://keras.io/models/model/)).\n",
    "\n",
    "The functional API usable with this import `from keras.models import Model`.\n",
    "\n",
    "**NOTE:** with this kinf of model we are working directly with tensors ([wiki tensor](https://en.wikipedia.org/wiki/Tensor)). \n",
    "\n",
    "In this case we want to build a model that \"simulate\" a linear regression using a neural network."
   ]
  },
  {
   "cell_type": "code",
   "execution_count": 61,
   "metadata": {},
   "outputs": [
    {
     "name": "stdout",
     "output_type": "stream",
     "text": [
      "2.4.0 2.4.0\n"
     ]
    }
   ],
   "source": [
    "import keras\n",
    "import tensorflow as tf\n",
    "print(tf.keras.__version__,keras.__version__)"
   ]
  },
  {
   "cell_type": "code",
   "execution_count": 58,
   "metadata": {
    "slideshow": {
     "slide_type": "subslide"
    }
   },
   "outputs": [
    {
     "name": "stdout",
     "output_type": "stream",
     "text": [
      "Train on 5 samples\n",
      "Epoch 1/30\n",
      "5/5 [==============================] - 0s 6ms/sample - loss: 60.2333 - mse: 60.2333\n",
      "Epoch 2/30\n",
      "5/5 [==============================] - 0s 5ms/sample - loss: 2.9178 - mse: 2.9178\n",
      "Epoch 3/30\n",
      "5/5 [==============================] - 0s 5ms/sample - loss: 0.2588 - mse: 0.2588\n",
      "Epoch 4/30\n",
      "5/5 [==============================] - 0s 6ms/sample - loss: 0.1637 - mse: 0.1637\n",
      "Epoch 5/30\n",
      "5/5 [==============================] - 0s 7ms/sample - loss: 0.1626 - mse: 0.1626\n",
      "Epoch 6/30\n",
      "5/5 [==============================] - 0s 6ms/sample - loss: 0.1590 - mse: 0.1590\n",
      "Epoch 7/30\n",
      "5/5 [==============================] - 0s 3ms/sample - loss: 0.1539 - mse: 0.1539\n",
      "Epoch 8/30\n",
      "5/5 [==============================] - 0s 2ms/sample - loss: 0.1486 - mse: 0.1486\n",
      "Epoch 9/30\n",
      "5/5 [==============================] - 0s 2ms/sample - loss: 0.1434 - mse: 0.1434\n",
      "Epoch 10/30\n",
      "5/5 [==============================] - 0s 2ms/sample - loss: 0.1383 - mse: 0.1383\n",
      "Epoch 11/30\n",
      "5/5 [==============================] - 0s 3ms/sample - loss: 0.1334 - mse: 0.1334\n",
      "Epoch 12/30\n",
      "5/5 [==============================] - 0s 2ms/sample - loss: 0.1287 - mse: 0.1287\n",
      "Epoch 13/30\n",
      "5/5 [==============================] - 0s 2ms/sample - loss: 0.1241 - mse: 0.1241\n",
      "Epoch 14/30\n",
      "5/5 [==============================] - 0s 2ms/sample - loss: 0.1197 - mse: 0.1197\n",
      "Epoch 15/30\n",
      "5/5 [==============================] - 0s 2ms/sample - loss: 0.1154 - mse: 0.1154\n",
      "Epoch 16/30\n",
      "5/5 [==============================] - 0s 2ms/sample - loss: 0.1114 - mse: 0.1114\n",
      "Epoch 17/30\n",
      "5/5 [==============================] - 0s 4ms/sample - loss: 0.1074 - mse: 0.1074\n",
      "Epoch 18/30\n",
      "5/5 [==============================] - ETA: 0s - loss: 0.3024 - mse: 0.302 - 0s 2ms/sample - loss: 0.1036 - mse: 0.1036\n",
      "Epoch 19/30\n",
      "5/5 [==============================] - 0s 6ms/sample - loss: 0.0999 - mse: 0.0999\n",
      "Epoch 20/30\n",
      "5/5 [==============================] - 0s 4ms/sample - loss: 0.0964 - mse: 0.0964\n",
      "Epoch 21/30\n",
      "5/5 [==============================] - 0s 2ms/sample - loss: 0.0930 - mse: 0.0930\n",
      "Epoch 22/30\n",
      "5/5 [==============================] - 0s 2ms/sample - loss: 0.0897 - mse: 0.0897\n",
      "Epoch 23/30\n",
      "5/5 [==============================] - 0s 2ms/sample - loss: 0.0865 - mse: 0.0865\n",
      "Epoch 24/30\n",
      "5/5 [==============================] - 0s 3ms/sample - loss: 0.0834 - mse: 0.0834\n",
      "Epoch 25/30\n",
      "5/5 [==============================] - 0s 3ms/sample - loss: 0.0805 - mse: 0.0805\n",
      "Epoch 26/30\n",
      "5/5 [==============================] - 0s 3ms/sample - loss: 0.0776 - mse: 0.0776\n",
      "Epoch 27/30\n",
      "5/5 [==============================] - 0s 2ms/sample - loss: 0.0749 - mse: 0.0749\n",
      "Epoch 28/30\n",
      "5/5 [==============================] - 0s 3ms/sample - loss: 0.0722 - mse: 0.0722\n",
      "Epoch 29/30\n",
      "5/5 [==============================] - 0s 6ms/sample - loss: 0.0697 - mse: 0.0697\n",
      "Epoch 30/30\n",
      "5/5 [==============================] - 0s 6ms/sample - loss: 0.0672 - mse: 0.0672\n"
     ]
    },
    {
     "data": {
      "text/html": [
       "<div>\n",
       "<style scoped>\n",
       "    .dataframe tbody tr th:only-of-type {\n",
       "        vertical-align: middle;\n",
       "    }\n",
       "\n",
       "    .dataframe tbody tr th {\n",
       "        vertical-align: top;\n",
       "    }\n",
       "\n",
       "    .dataframe thead th {\n",
       "        text-align: right;\n",
       "    }\n",
       "</style>\n",
       "<table border=\"1\" class=\"dataframe\">\n",
       "  <thead>\n",
       "    <tr style=\"text-align: right;\">\n",
       "      <th></th>\n",
       "      <th>pred</th>\n",
       "      <th>real</th>\n",
       "    </tr>\n",
       "  </thead>\n",
       "  <tbody>\n",
       "    <tr>\n",
       "      <th>0</th>\n",
       "      <td>19.226803</td>\n",
       "      <td>20</td>\n",
       "    </tr>\n",
       "    <tr>\n",
       "      <th>1</th>\n",
       "      <td>37.884480</td>\n",
       "      <td>40</td>\n",
       "    </tr>\n",
       "    <tr>\n",
       "      <th>2</th>\n",
       "      <td>56.542152</td>\n",
       "      <td>60</td>\n",
       "    </tr>\n",
       "    <tr>\n",
       "      <th>3</th>\n",
       "      <td>75.199829</td>\n",
       "      <td>80</td>\n",
       "    </tr>\n",
       "    <tr>\n",
       "      <th>4</th>\n",
       "      <td>93.857506</td>\n",
       "      <td>100</td>\n",
       "    </tr>\n",
       "  </tbody>\n",
       "</table>\n",
       "</div>"
      ],
      "text/plain": [
       "        pred  real\n",
       "0  19.226803    20\n",
       "1  37.884480    40\n",
       "2  56.542152    60\n",
       "3  75.199829    80\n",
       "4  93.857506   100"
      ]
     },
     "execution_count": 58,
     "metadata": {},
     "output_type": "execute_result"
    }
   ],
   "source": [
    "import keras\n",
    "from keras.layers import Input, Dense\n",
    "from keras.models import Model\n",
    "import pandas as pd\n",
    "\n",
    "inputs = Input(shape=(1,))\n",
    "preds = Dense(1,activation='linear')(inputs)\n",
    "x = np.array([1,2,3,4,5])\n",
    "y = x*2\n",
    "x_test = x*10\n",
    "y_test = x_test*2\n",
    "\n",
    "model = Model(inputs=inputs,outputs=preds)\n",
    "sgd=keras.optimizers.SGD()\n",
    "model.compile(optimizer=sgd ,loss='mse',metrics=['mse'])\n",
    "model.fit(x,y, batch_size=1, epochs=30, shuffle=False)\n",
    "#model.predict(x_test).shape\n",
    "res = pd.DataFrame({'pred':model.predict(x_test)[:,0],'real':y_test})\n",
    "res"
   ]
  },
  {
   "cell_type": "code",
   "execution_count": 62,
   "metadata": {
    "slideshow": {
     "slide_type": "fragment"
    }
   },
   "outputs": [
    {
     "name": "stdout",
     "output_type": "stream",
     "text": [
      "[[19.226803]\n",
      " [37.88448 ]\n",
      " [56.542152]\n",
      " [75.19983 ]\n",
      " [93.857506]]\n",
      "Model: \"functional_1\"\n",
      "_________________________________________________________________\n",
      "Layer (type)                 Output Shape              Param #   \n",
      "=================================================================\n",
      "input_1 (InputLayer)         [(None, 1)]               0         \n",
      "_________________________________________________________________\n",
      "dense_41 (Dense)             (None, 1)                 2         \n",
      "=================================================================\n",
      "Total params: 2\n",
      "Trainable params: 2\n",
      "Non-trainable params: 0\n",
      "_________________________________________________________________\n"
     ]
    },
    {
     "data": {
      "text/plain": [
       "tensorflow.python.framework.ops.Tensor"
      ]
     },
     "execution_count": 62,
     "metadata": {},
     "output_type": "execute_result"
    }
   ],
   "source": [
    "print(model.predict(x_test))\n",
    "model.summary()\n",
    "type(inputs)"
   ]
  }
 ],
 "metadata": {
  "celltoolbar": "Slideshow",
  "environment": {
   "name": "tf2-2-3-gpu.2-3.m56",
   "type": "gcloud",
   "uri": "gcr.io/deeplearning-platform-release/tf2-2-3-gpu.2-3:m56"
  },
  "hide_code_all_hidden": false,
  "kernelspec": {
   "display_name": "Python 3",
   "language": "python",
   "name": "python3"
  },
  "language_info": {
   "codemirror_mode": {
    "name": "ipython",
    "version": 3
   },
   "file_extension": ".py",
   "mimetype": "text/x-python",
   "name": "python",
   "nbconvert_exporter": "python",
   "pygments_lexer": "ipython3",
   "version": "3.7.8"
  },
  "toc": {
   "base_numbering": 1,
   "nav_menu": {},
   "number_sections": false,
   "sideBar": false,
   "skip_h1_title": false,
   "title_cell": "Table of Contents",
   "title_sidebar": "Contents",
   "toc_cell": false,
   "toc_position": {},
   "toc_section_display": false,
   "toc_window_display": false
  }
 },
 "nbformat": 4,
 "nbformat_minor": 4
}
